{
 "cells": [
  {
   "cell_type": "markdown",
   "id": "8c036657",
   "metadata": {},
   "source": [
    "<h1 align=\"center\">Uptime-Kuma</h1>"
   ]
  },
  {
   "cell_type": "markdown",
   "id": "bf11f0ff",
   "metadata": {},
   "source": [
    "## Uptime Kuma เป็นเครื่องมือตรวจสอบแบบโฮสต์เองที่คุณสามารถใช้ตรวจสอบเว็บไซต์และแอปพลิเคชันในแบบเรียลไทม์\n",
    "\n",
    "> ตรวจสอบเวลาทำงานของเว็บไซต์ HTTP พอร์ต TCP และ ICMP Ping\n",
    "ส่งการแจ้งเตือนทางอีเมล (SMTP), Telegram, Discord, Microsoft Teams, Line Notify\n",
    "* รองรับการใช้งานได้ไม่จำกัด\n",
    "* รองรับการแจ้งเตือนได้หลาย Platform\n",
    "* มีการ Monitor ได้หลายรูปแบบ\n",
    "* แบ่ง Dashboard แยก Site ได้\n",
    "* พัฒนาด้วยภาษา NodeJS\n",
    "\n",
    "## รองรับการติดตั้งบน\n",
    "\n",
    "* Docker\n",
    "* Linux\n",
    "* macOS\n",
    "* Windows (On Docker)\n",
    "\n",
    "<h3 style=\"color:red;\">ณ ที่ใช้ตอนนี้เป็นตัว ICMP Ping เป็นหลักครับ</h3>\n",
    "\n",
    "---\n",
    "\n",
    "## แนะนำการใช้งานคร่าวๆ\n",
    "\n",
    "<img src=\"img/1.png\" width=\"400\">\n",
    "\n",
    "* ## หน้าแรกจะแสดงข้อมูลอุปกรณ์ทั้งหมด และสามารถค้นอึปกรณ์ที่สนใจได้จากช่องค้นหาในหน้านี้"
   ]
  },
  {
   "cell_type": "markdown",
   "id": "8ade41cc",
   "metadata": {},
   "source": [
    "## หน้า Dashboard จะแสดงข้อมูล Uptime State ทั้งหมดว่ามีอุปกรณ์ใด Up หรือ Down บ้างเบื้องต้น\n",
    "---\n",
    "<img src=\"img/2.png\" width=\"500\">"
   ]
  },
  {
   "cell_type": "markdown",
   "id": "b60afb6f",
   "metadata": {},
   "source": [
    "## หน้าจอดูสถานะการออนไลน์ของอุปกรณ์โดยวัดจากค่าการ Ping และ milisec ในการตอนกลับของอุปกรณ์\n",
    "\n",
    "<img src=\"img/3.png\" width=\"600\">\n",
    "\n",
    "---\n",
    "### โดยวิธีการดูลักษณะเป็นดังนี้\n",
    "* ถ้าเวลาในการ Ping <= 350 แสดงว่าสัญญาณนั้นยังค่อนข้างดี\n",
    "* แต่ถ้าเกิน 350 ms ต่อเนื่องนั้นส่งสัญญาณให้รู้ว่าสัญญาณของซิมนั้นอ่อนหรือ Package อาจจะหมด จากสาเหตุที่ผมได้สอบถามทางพี่ๆหลักๆแล้ว เกิดจากทางฝั่งเรา Remote ก้องบ่อยด้วยครับ ไม่ Balance กับ Package ที่มีอยู่"
   ]
  },
  {
   "cell_type": "markdown",
   "id": "da7ad197",
   "metadata": {},
   "source": [
    "## สามารถแบ่งกลุ่มหน้าจอเพื่อมอนิเตอร์แต่ละสาขาได้\n",
    "\n",
    "---\n",
    "<img src=\"img/4.png\" width=\"500\">\n",
    "\n",
    "---\n",
    "<img src=\"img/5.png\" width=\"500\">"
   ]
  },
  {
   "cell_type": "markdown",
   "id": "ac2aa657",
   "metadata": {},
   "source": [
    "## รูปแบบการแจ้ง Notification สามารถแจ้งได้หลาย platform\n",
    "\n",
    "---\n",
    "<img src=\"img/6.png\" width=\"700\">"
   ]
  },
  {
   "cell_type": "markdown",
   "id": "a7f278bd",
   "metadata": {},
   "source": [
    "## รูปแบบการ Monitor มีได้หลากหลายจากได้ตามรูปครับ\n",
    "\n",
    "---\n",
    "<img src=\"img/7.png\">"
   ]
  },
  {
   "cell_type": "markdown",
   "id": "f8f3cd41",
   "metadata": {},
   "source": [
    "> ### ของยกตัวอย่างเท่าที่ทราบ ณ ตอนนี้ครับ\n",
    "\n",
    "* HTTP คือการ Monitor Web server จะช้ในรูปแบบ Response code (OK != 200) ประมาณนี้ครับ\n",
    "* TCP Port คือการ Monitor โดยการ Ping ไปที่ Port นั้นๆ\n",
    "* HTTP Keyword คือ ให้ Uptime kuma เข้าไปที่ Web site แล้ว Grep หาค่าที่ต้องการเพื่อเป็นการบอกว่า Online หรือไม่\n",
    "* DNS คือ Ping Resolve DNS\n",
    "* Docker container คือสามารถ Monitor Docker ได้\n",
    "* ที่เหลือก็จะเป็นในส่วนของ Database"
   ]
  },
  {
   "cell_type": "markdown",
   "id": "4f94e0a9",
   "metadata": {},
   "source": [
    "## ในส่วนที่ผมกำลังทดสอบ ณ ตอนนี้จะเป็น Ping protocal ครับ\n",
    "\n",
    "---\n",
    "<img src=\"img/8.png\" width=\"400\">"
   ]
  },
  {
   "cell_type": "markdown",
   "id": "5a5896cf",
   "metadata": {},
   "source": [
    "* Hostname คือ IP ของ Router\n",
    "* Heartbeat Interval คือ ให้ไป Ping Router ทุกๆกี่นาที\n",
    "* Retries คือ ให้กลับมาทำซ้ำก่อนที่จะแจ้ง Down กี่ครั้ง\n",
    "> ที่เหลือสามารถปล่อย Default ได้ครับ"
   ]
  },
  {
   "cell_type": "code",
   "execution_count": null,
   "id": "c275fbf5",
   "metadata": {},
   "outputs": [],
   "source": []
  }
 ],
 "metadata": {
  "kernelspec": {
   "display_name": "Python 3 (ipykernel)",
   "language": "python",
   "name": "python3"
  },
  "language_info": {
   "codemirror_mode": {
    "name": "ipython",
    "version": 3
   },
   "file_extension": ".py",
   "mimetype": "text/x-python",
   "name": "python",
   "nbconvert_exporter": "python",
   "pygments_lexer": "ipython3",
   "version": "3.9.12"
  }
 },
 "nbformat": 4,
 "nbformat_minor": 5
}
